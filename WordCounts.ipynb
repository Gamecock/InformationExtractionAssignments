{
 "cells": [
  {
   "cell_type": "markdown",
   "metadata": {},
   "source": [
    "# Homework 1 - Ngrams\n",
    "CSCI6030  \n",
    "Mike Finch"
   ]
  },
  {
   "cell_type": "markdown",
   "metadata": {},
   "source": [
    "## Assignment  \n",
    "Review a corpus and gather statistics of the information.\n",
    "1. Letter Frequency\n",
    "1. Zipf's Law\n",
    "1. Most Frequent Words\n",
    "1. Most Frequent Bigrams\n",
    "1. Most Frequent TriGrams\n",
    "1. Self Assessment\n",
    "1. Testing\n",
    "\n",
    "### First load the documents."
   ]
  },
  {
   "cell_type": "code",
   "execution_count": 1,
   "metadata": {},
   "outputs": [],
   "source": [
    "# Get the list of files\n",
    "from glob import glob\n",
    "\n",
    "files = glob('./gutenberg-corpus/**/*.txt', recursive=True)"
   ]
  },
  {
   "cell_type": "markdown",
   "metadata": {},
   "source": [
    "### Clean each line of each document\n",
    "1. Make lower case\n",
    "1. Remove punctuation\n",
    "1. Handle apostrophes\n",
    "    1. Handle contracions before possessives\n",
    "        1. Replace it's with it is.\n",
    "        1. Replace they'll, I'll, you'll with <x> will.\n",
    "        1. Replace you're, they're with <x> are.\n",
    "    1. Handle possessives\n",
    "        1.  Remove 's\n",
    "        1.  Replace s' with s\n",
    "    1. Handle common contractions\n",
    "        1. Stopped at point of diminishing returns\n",
    "        1. Some words like o'clock, ma'am make more sense than \"of the clock\" or \"madame\".\n",
    "Function below will be used to clean each line when it's loaded  "
   ]
  },
  {
   "cell_type": "code",
   "execution_count": 2,
   "metadata": {},
   "outputs": [],
   "source": [
    "#clean a line\n",
    "def cleanALine(line):\n",
    "    line = line.lower()\n",
    "    #get rid puncuation & numbers except apostrophes\n",
    "    for char in '-_.,:;?!()[]{}<>=*$&0123456789`\\\"\\n':\n",
    "        line=line.replace(char,' ')\n",
    "    #trade run time of checking string for apostrophes once vs time of remaining checks\n",
    "    #maybe could do again, but that might be over optimization.\n",
    "    if '\\'' not in line:\n",
    "        return line\n",
    "    line = ' '+line+' '  # makes sure word boundry checks work on i's and last words\n",
    "    #fix it's, 'tis' -> it is\n",
    "    line = line.replace('it\\'s', 'it is ')\n",
    "    line = line.replace('\\'tis', 'it is ')    \n",
    "    line = line.replace('\\'twas ', 'it was ')    \n",
    "    line = line.replace('\\'twill ', 'it will ')    \n",
    "    line = line.replace('\\'twould ', 'it would ')    \n",
    "    #fix you'll -> you will etc...\n",
    "    line = line.replace('\\'ll ', ' will ')\n",
    "    #fix you're -> you are etc...\n",
    "    line = line.replace('\\'re ', ' are ' )\n",
    "    #fix i've you've, they've -> I have..\n",
    "    line = line.replace('\\'ve ', ' have ')\n",
    "    #eliminate trailing 's\n",
    "    line = line.replace('\\'s ', ' ')\n",
    "    #eliminate plural pssessive s' and trailing quotes\n",
    "    line = line.replace('\\' ', ' ')\n",
    "    #eliminate beginning quotes  #The beginning of line check has to be after the 'tis check\n",
    "    line = line.replace(' \\'',' ')\n",
    "    #There are some apostrohes that we do not want to clean, like ain't and o'clock\n",
    "    #so we have to be careful with the patterns going forward.\n",
    "    #fix won't, can't, shan't\n",
    "    line = line.replace(\" won't \", \" would not \")\n",
    "    line = line.replace(\" can't \", \" can not \")\n",
    "    line = line.replace(\" shan't \", \" should not \")\n",
    "    #fix shouldn't, couldn't, doesn't -> should not...\n",
    "    line = line.replace('n\\'t ', ' not ')  \n",
    "    #fix i'm, i'd\n",
    "    line = line.replace('i\\'m ', 'i am ')\n",
    "    line = line.replace('i\\'d ', 'i would ')\n",
    "    line = line.replace('e\\'d ', 'e would ') # picks up we'd he'd and she'd\n",
    "    line = line.replace(\" they'd \", \" they would \")\n",
    "    line = line.replace(\" you'd \", \" you would \")\n",
    "    #fix 'd for ed sufix\n",
    "    line = line.replace('\\'d ', 'ed ')\n",
    "    #fix e'er, e'en, o'er...\n",
    "    line = line.replace('\\'e', 've')\n",
    "    return line"
   ]
  },
  {
   "cell_type": "markdown",
   "metadata": {},
   "source": [
    "### Collect Letter Counts\n",
    "We will use an array structure to hold the letters.\n",
    "Function below will be used to add data to the structure.  "
   ]
  },
  {
   "cell_type": "code",
   "execution_count": 3,
   "metadata": {},
   "outputs": [],
   "source": [
    "# Create an array for letter counts\n",
    "letters = [0]*26\n",
    "alphabet = 'abcdefghijklmnopqrstuvwxyz'\n",
    "\n",
    "# Create a function to capture letters\n",
    "def addWordToLetters(word):\n",
    "    global needsCleaning\n",
    "    for char in word:\n",
    "        if char in alphabet:\n",
    "            index = alphabet.index(char)\n",
    "            letters[index] +=1\n",
    "        else:\n",
    "            if word not in {\"o'clock\",\"ain't\", \"ma'am\"}:\n",
    "                needsCleaning += 1\n",
    "#                print(\"Needs to clean \"+ word)\n",
    "  "
   ]
  },
  {
   "cell_type": "markdown",
   "metadata": {},
   "source": [
    "### Collect N-gram counts\n",
    "Create a dictionary to hold unigrams, bigrams, trigrams"
   ]
  },
  {
   "cell_type": "code",
   "execution_count": 4,
   "metadata": {},
   "outputs": [],
   "source": [
    "# Create a dictionary for words\n",
    "unigrams = {}\n",
    "bigrams = {}\n",
    "trigrams = {}\n",
    "\n",
    "#previous words to create ngrams\n",
    "before = None\n",
    "twobefore = None\n",
    "\n",
    "#Create a function to store words\n",
    "def addWordsToBag(words):\n",
    "    global before, twobefore\n",
    "    for word in words:\n",
    "        unigrams[word] = unigrams.get(word, 0) + 1\n",
    "        addWordToLetters(word)\n",
    "        if before is not None:\n",
    "            key = before+\" \"+word\n",
    "            bigrams[key] = bigrams.get(key,0) + 1\n",
    "            if twobefore is not None:\n",
    "                key = twobefore+' '+before+' '+word\n",
    "                trigrams[key] = trigrams.get(key,0) + 1\n",
    "            twobefore = before\n",
    "        before = word\n",
    "#reset globals becuase we don't want the last word of one document to be paired with the first word of the next.        \n",
    "def endOfDoc():\n",
    "    global before, twobefore\n",
    "    before = None\n",
    "    twobefore = None"
   ]
  },
  {
   "cell_type": "markdown",
   "metadata": {},
   "source": [
    "### Load Data\n",
    "The loop below loads each file and reads the lines one at a time. Then calls the function to load the data."
   ]
  },
  {
   "cell_type": "code",
   "execution_count": 5,
   "metadata": {},
   "outputs": [
    {
     "name": "stdout",
     "output_type": "stream",
     "text": [
      "Down to  605  words that could be cleaned.\n"
     ]
    }
   ],
   "source": [
    "needsCleaning = 0\n",
    "for file in files:\n",
    "    with open(file) as f:\n",
    "        while True:\n",
    "            try :\n",
    "                line1 = next(f)\n",
    "            except StopIteration:\n",
    "                break\n",
    "            line = cleanALine(line1)\n",
    "            words = line.split()\n",
    "            addWordsToBag(words)\n",
    "        endOfDoc()\n",
    "print(\"Down to \",needsCleaning,\" words that could be cleaned.\")"
   ]
  },
  {
   "cell_type": "markdown",
   "metadata": {},
   "source": [
    "<div style=\"page-break-after: always;\"></div>\n",
    "## Letter Frequency\n",
    "Plot the relative frequency of each letter"
   ]
  },
  {
   "cell_type": "code",
   "execution_count": 15,
   "metadata": {},
   "outputs": [
    {
     "data": {
      "image/png": "[encoded data removed]",
      "text/plain": [
       "<Figure size 640x480 with 1 Axes>"
      ]
     },
     "metadata": {},
     "output_type": "display_data"
    }
   ],
   "source": [
    "import matplotlib.pyplot as plt\n",
    "import numpy as np\n",
    "plt.rcdefaults()\n",
    "x_pos = np.arange(26)\n",
    "performance = letters\n",
    " \n",
    "plt.bar(x_pos ,performance, align='center')\n",
    "plt.xticks(x_pos, alphabet)\n",
    "plt.ylabel('Count')\n",
    "plt.title('Letter Frequency')\n",
    " \n",
    "plt.show()"
   ]
  },
  {
   "cell_type": "markdown",
   "metadata": {},
   "source": [
    "<div style=\"page-break-after: always;\"></div>\n",
    "##  Zipfs' Law\n",
    "Zipfs' law says that the frequency of words are power law distributed. To show this we can plot on a log-log plot, it should approximate a straight line.\n"
   ]
  },
  {
   "cell_type": "code",
   "execution_count": 7,
   "metadata": {},
   "outputs": [
    {
     "data": {
      "image/png": "[encoded data removed]",
      "text/plain": [
       "<Figure size 432x288 with 1 Axes>"
      ]
     },
     "metadata": {},
     "output_type": "display_data"
    }
   ],
   "source": [
    "from collections import Counter\n",
    "from pylab import *\n",
    "sorted = Counter(unigrams).most_common()\n",
    "word_count = []\n",
    "for word in sorted:\n",
    "    word_count.append(word[1])\n",
    "x = np.arange(1,len(unigrams)+1)\n",
    "loglog(x, word_count)\n",
    "\n",
    "\n",
    "#Fit Line\n",
    "LogX = np.log(x[:10000])\n",
    "LogY = np.log(word_count[:10000])\n",
    "\n",
    "m,c = np.polyfit(LogX, LogY, 1)\n",
    "Fitted = np.exp(m*LogX +c)\n",
    "\n",
    "loglog(x[:10000], Fitted, color = 'red', linestyle = 'dashed')\n",
    "\n",
    "\n",
    "xlabel('rank (r)')\n",
    "ylabel('frequency (f)')\n",
    "title('Frequency Rank')\n",
    "grid(True)\n",
    "show()\n"
   ]
  },
  {
   "cell_type": "markdown",
   "metadata": {},
   "source": [
    "It appears that word distribution approximates Zipfs' law, but it does not apply at either extreme.  The most common words are not common enough, and their should be far more words only used rarely.\n"
   ]
  },
  {
   "cell_type": "markdown",
   "metadata": {},
   "source": [
    "## Top 10 Words\n",
    "Unigrams are already sorted, so print out the first 10."
   ]
  },
  {
   "cell_type": "code",
   "execution_count": 8,
   "metadata": {},
   "outputs": [
    {
     "name": "stdout",
     "output_type": "stream",
     "text": [
      "Word________________ _____Count\n",
      "the                      133567\n",
      "and                       95428\n",
      "of                        71256\n",
      "to                        47965\n",
      "a                         33928\n",
      "in                        33550\n",
      "i                         30271\n",
      "that                      28803\n",
      "he                        25890\n",
      "it                        22511\n"
     ]
    }
   ],
   "source": [
    "print('{:_<20} {:_>10}'.format(\"Word\", \"Count\"))\n",
    "for i in range(10):\n",
    "    print('{:<20} {:>10}'.format(sorted[i][0], sorted[i][1]))"
   ]
  },
  {
   "cell_type": "markdown",
   "metadata": {},
   "source": [
    "Looks like most of the top 10 are \"stop words\"."
   ]
  },
  {
   "cell_type": "markdown",
   "metadata": {},
   "source": [
    "## Top 10 bigrams\n",
    "Sort the collection of bigrams and print out the top 10 "
   ]
  },
  {
   "cell_type": "code",
   "execution_count": 9,
   "metadata": {},
   "outputs": [
    {
     "name": "stdout",
     "output_type": "stream",
     "text": [
      "Bigram______________ _____Count\n",
      "of the                    19142\n",
      "in the                    10243\n",
      "and the                    8877\n",
      "the lord                   7081\n",
      "to the                     5407\n",
      "all the                    3598\n",
      "and he                     3595\n",
      "to be                      3469\n",
      "it is                      3267\n",
      "for the                    3048\n"
     ]
    }
   ],
   "source": [
    "from collections import Counter\n",
    "sorted = Counter(bigrams).most_common()\n",
    "print('{:_<20} {:_>10}'.format(\"Bigram\", \"Count\"))\n",
    "for i in range(10):\n",
    "    print('{:<20} {:>10}'.format(sorted[i][0], sorted[i][1]))"
   ]
  },
  {
   "cell_type": "markdown",
   "metadata": {},
   "source": [
    "## Top 10 trigrams\n",
    "Sort the collection of trigrams and print out the top 10"
   ]
  },
  {
   "cell_type": "code",
   "execution_count": 10,
   "metadata": {},
   "outputs": [
    {
     "name": "stdout",
     "output_type": "stream",
     "text": [
      "Trigram__________________ _____Count\n",
      "of the lord                     1780\n",
      "the son of                      1469\n",
      "the children of                 1369\n",
      "out of the                      1202\n",
      "the house of                     918\n",
      "saith the lord                   854\n",
      "the lord and                     829\n",
      "and i will                       818\n",
      "i do not                         702\n",
      "and all the                      697\n"
     ]
    }
   ],
   "source": [
    "from collections import Counter\n",
    "sorted = Counter(trigrams).most_common()\n",
    "print('{:_<25} {:_>10}'.format(\"Trigram\", \"Count\"))\n",
    "for i in range(10):\n",
    "    print('{:<25} {:>10}'.format(sorted[i][0], sorted[i][1]))"
   ]
  },
  {
   "cell_type": "markdown",
   "metadata": {},
   "source": [
    "## Self Assessment\n",
    "|Task |Max Points Possible|Points Earned|\n",
    "|---|---|---|\n",
    "|Program compiles and runs |30 | 30|\n",
    "|Program seems to produce correct results |20 | 20|  \n",
    "|Testing is done and test results are documented|20 | 20|\n",
    "|Appropriate data types are chosen for variables|10 | 10|\n",
    "|Variable names are self-explanatory |10 | 10|\n",
    "|Program code is commented appropriately |  5 |  5|\n",
    "|Self-assessment is performed |5 |n|\n",
    "|Total points |100 |100|\n"
   ]
  },
  {
   "cell_type": "markdown",
   "metadata": {},
   "source": [
    "## Testing\n",
    "\n",
    "### Initial Development\n",
    "The program was developed in the notebook using a test corpus.  Notebooks add a challenge becuase of the difficulty of creating unit tests.  A path would have ben to develop the functions in an IDE and unit test them, and then copy/paste into the notebook.  That would have required discipline to keep the notebook and IDE code in synch.  \n",
    "Instead I chose to add documents to the test corpus one at a time to validate the basic function, and then tune it on the gutenberg corpus.  This does result in some overfitting to the gutenberg corpus, but that seems appropriate in a notebook. The test corpus corpus was a set of trivial documents to verify that each portion of the program worked."
   ]
  },
  {
   "cell_type": "code",
   "execution_count": 11,
   "metadata": {},
   "outputs": [
    {
     "name": "stdout",
     "output_type": "stream",
     "text": [
      "./temp/fox.txt\n",
      "./temp/postrophe.txt\n",
      "./temp/test.txt\n"
     ]
    }
   ],
   "source": [
    "files = glob('./temp/*.txt')\n",
    "for file in files:\n",
    "    print(file)"
   ]
  },
  {
   "cell_type": "markdown",
   "metadata": {},
   "source": [
    "#### The first file `test.txt`  \n",
    "This was a simple sentance to validate the parsing that could easily be checked by eyeball:  \n",
    "- letters were counted\n",
    "- unigrams, bigrams, and trigrams created  \n",
    "- punctuation stripped\n",
    "- words lower cased"
   ]
  },
  {
   "cell_type": "code",
   "execution_count": 12,
   "metadata": {},
   "outputs": [
    {
     "name": "stdout",
     "output_type": "stream",
     "text": [
      "This is a test.\n",
      "\n"
     ]
    }
   ],
   "source": [
    "with open('./temp/test.txt', 'r') as testFile:\n",
    "    test = testFile.read()\n",
    "print(test)"
   ]
  },
  {
   "cell_type": "markdown",
   "metadata": {},
   "source": [
    "#### The next file `fox.text` \n",
    "This is a classic typing sentance that contains all the letters in the alphabet.  It verified that all letters were counted.  It also tested that bigrams and trigrams wrapped around lines, but not between documents."
   ]
  },
  {
   "cell_type": "code",
   "execution_count": 13,
   "metadata": {},
   "outputs": [
    {
     "name": "stdout",
     "output_type": "stream",
     "text": [
      "The quick brown fox\n",
      "jumped over the lazy dog.\n",
      "\n"
     ]
    }
   ],
   "source": [
    "with open('./temp/fox.txt', 'r') as testFile:\n",
    "    fox = testFile.read()\n",
    "print(fox)"
   ]
  },
  {
   "cell_type": "markdown",
   "metadata": {},
   "source": [
    "#### The final file `postrophe.txt`\n",
    "This added the initial touches on the filtering apostrophes.  The sentances were added to it one at a time.  The first sentance handles possessives, and disambiguates them from it's -> it is.  The second sentance confimed that my approach to handling contractions would work."
   ]
  },
  {
   "cell_type": "code",
   "execution_count": 14,
   "metadata": {},
   "outputs": [
    {
     "name": "stdout",
     "output_type": "stream",
     "text": [
      "It's hard to see Steve's dogs' leashes. \n",
      "You're lucky you'll walk again.\n",
      "\n"
     ]
    }
   ],
   "source": [
    "with open('./temp/postrophe.txt', 'r') as testFile:\n",
    "    postrophe = testFile.read()\n",
    "print(postrophe)"
   ]
  },
  {
   "cell_type": "markdown",
   "metadata": {},
   "source": [
    "### Contraction Handling in corpus.\n",
    "\n",
    "This is where the notebook is overfit to the document.  Instead of trying to handle all the common English contractions, I editied the notebook to print out the contraction's that it found.  Everytime I tried to add a character to the letter data structure and it was not a letter, I printed the word that contained it.  I also kept track of the number of such occurances and removed them one at a time until I got to the point of diminishing returns.  "
   ]
  }
 ],
 "metadata": {
  "kernelspec": {
   "display_name": "Python 3",
   "language": "python",
   "name": "python3"
  },
  "language_info": {
   "codemirror_mode": {
    "name": "ipython",
    "version": 3
   },
   "file_extension": ".py",
   "mimetype": "text/x-python",
   "name": "python",
   "nbconvert_exporter": "python",
   "pygments_lexer": "ipython3",
   "version": "3.6.5"
  }
 },
 "nbformat": 4,
 "nbformat_minor": 2
}
